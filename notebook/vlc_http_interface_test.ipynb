{
 "cells": [
  {
   "cell_type": "markdown",
   "metadata": {},
   "source": [
    "# vlc_http_interface_test"
   ]
  },
  {
   "cell_type": "code",
   "execution_count": 16,
   "metadata": {},
   "outputs": [],
   "source": [
    "#import urllib.request as http\n",
    "import requests\n",
    "import untangle\n",
    "import psutil\n",
    "\n",
    "import os"
   ]
  },
  {
   "cell_type": "code",
   "execution_count": 4,
   "metadata": {},
   "outputs": [
    {
     "name": "stdout",
     "output_type": "stream",
     "text": [
      "<Response [200]>\n"
     ]
    }
   ],
   "source": [
    "r = requests.get(\"http://127.0.0.1:8091/requests/status.xml\",auth=('','coccolino69'))\n",
    "print(r)"
   ]
  },
  {
   "cell_type": "code",
   "execution_count": 5,
   "metadata": {},
   "outputs": [
    {
     "data": {
      "text/plain": [
       "{'Content-type': 'text/xml', 'Cache-Control': 'no-cache', 'Connection': 'close', 'Content-Length': '3358'}"
      ]
     },
     "execution_count": 5,
     "metadata": {},
     "output_type": "execute_result"
    }
   ],
   "source": [
    "r.headers"
   ]
  },
  {
   "cell_type": "code",
   "execution_count": 14,
   "metadata": {},
   "outputs": [
    {
     "data": {
      "text/plain": [
       "200"
      ]
     },
     "execution_count": 14,
     "metadata": {},
     "output_type": "execute_result"
    }
   ],
   "source": [
    "r.status_code"
   ]
  },
  {
   "cell_type": "raw",
   "metadata": {},
   "source": []
  },
  {
   "cell_type": "code",
   "execution_count": 6,
   "metadata": {
    "scrolled": true
   },
   "outputs": [
    {
     "data": {
      "text/plain": [
       "'<?xml version=\"1.0\" encoding=\"utf-8\" standalone=\"yes\" ?>\\n<root>\\n\\n<version>3.0.3 Vetinari</version>\\n<random>false</random>\\n<length>6069</length>\\n<apiversion>3</apiversion>\\n<equalizer></equalizer>\\n<subtitledelay>0</subtitledelay>\\n<position>0.034655205905437</position>\\n<volume>284</volume>\\n<videoeffects>\\n  <contrast>1</contrast>\\n  <brightness>1</brightness>\\n  <gamma>1</gamma>\\n  <saturation>1</saturation>\\n  <hue>0</hue></videoeffects>\\n<aspectratio>default</aspectratio>\\n<repeat>false</repeat>\\n<state>paused</state>\\n<rate>1</rate>\\n<audiofilters>\\n  <filter_0></filter_0></audiofilters>\\n<loop>false</loop>\\n<time>210</time>\\n<fullscreen>false</fullscreen>\\n<currentplid>3</currentplid>\\n<audiodelay>0</audiodelay><information>\\n    <category name=\"meta\">\\n    <info name=\\'_STATISTICS_TAGS\\'>BPS DURATION NUMBER_OF_FRAMES NUMBER_OF_BYTES</info><info name=\\'NUMBER_OF_FRAMES\\'>569043</info><info name=\\'DATE\\'></info><info name=\\'_STATISTICS_WRITING_APP\\'>mkvmerge v9.7.1 (&amp;#39;Pandemonium&amp;#39;) 64bit</info><info name=\\'description\\'></info><info name=\\'ENCODER\\'>Lavf54.63.100</info><info name=\\'episode\\'></info><info name=\\'album\\'></info><info name=\\'_STATISTICS_WRITING_DATE_UTC\\'>2018-08-23 14:25:21</info><info name=\\'BPS\\'>1509000</info><info name=\\'ALBUM_ARTIST\\'></info><info name=\\'CREATION_TIME\\'>2018-08-24 17:25:10</info><info name=\\'copyright\\'>robbyrs</info><info name=\\'LANGUAGE\\'>eng</info><info name=\\'title\\'>MIRCrew</info><info name=\\'DURATION\\'>01:41:09.792000000</info><info name=\\'filename\\'>L&amp;#39;Isola dei cani - Isle of Dogs (2018).mkv</info><info name=\\'COMPOSER\\'></info><info name=\\'NUMBER_OF_BYTES\\'>1144914584</info>    </category>\\n  <category name=\\'Stream 1\\'><info name=\\'Codec\\'>A52 Audio (aka AC3) (a52 )</info><info name=\\'Channels\\'>3F2M/LFE</info><info name=\\'Type\\'>Audio</info><info name=\\'Sample rate\\'>48000 Hz</info><info name=\\'Language\\'>Italian</info><info name=\\'Bits per sample\\'>32</info></category><category name=\\'Stream 0\\'><info name=\\'Type\\'>Video</info><info name=\\'Video resolution\\'>1280x528</info><info name=\\'Codec\\'>H264 - MPEG-4 AVC (part 10) (avc1)</info><info name=\\'Chroma location\\'>Left</info><info name=\\'Orientation\\'>Top left</info><info name=\\'Decoded format\\'>Planar 4:2:0 YUV</info><info name=\\'Buffer dimensions\\'>1280x546</info><info name=\\'Language\\'>Italian</info><info name=\\'Frame rate\\'>23.976216</info></category><category name=\\'Stream 2\\'><info name=\\'Codec\\'>A52 Audio (aka AC3) (a52 )</info><info name=\\'Type\\'>Audio</info><info name=\\'Description\\'>Eng. DTS 1510 Kbps</info><info name=\\'Sample rate\\'>48000 Hz</info><info name=\\'Language\\'>English</info><info name=\\'Bits per sample\\'>16</info></category>  </information>\\n  <stats>\\n  <sendbitrate>0</sendbitrate>\\n<averageinputbitrate>0</averageinputbitrate>\\n<demuxcorrupted>0</demuxcorrupted>\\n<averagedemuxbitrate>0</averagedemuxbitrate>\\n<decodedaudio>13171</decodedaudio>\\n<readpackets>461</readpackets>\\n<demuxbitrate>0.13717423379421</demuxbitrate>\\n<displayedpictures>5043</displayedpictures>\\n<lostabuffers>0</lostabuffers>\\n<playedabuffers>6585</playedabuffers>\\n<demuxdiscontinuity>0</demuxdiscontinuity>\\n<sentbytes>0</sentbytes>\\n<readbytes>75951986</readbytes>\\n<inputbitrate>0.38414913415909</inputbitrate>\\n<sentpackets>0</sentpackets>\\n<lostpictures>0</lostpictures>\\n<demuxreadbytes>63977134</demuxreadbytes>\\n<demuxreadpackets>0</demuxreadpackets>\\n<decodedvideo>10103</decodedvideo>\\n  </stats>\\n</root>\\n'"
      ]
     },
     "execution_count": 6,
     "metadata": {},
     "output_type": "execute_result"
    }
   ],
   "source": [
    "r.text"
   ]
  },
  {
   "cell_type": "code",
   "execution_count": 9,
   "metadata": {},
   "outputs": [],
   "source": [
    "obj = untangle.parse(r.text)"
   ]
  },
  {
   "cell_type": "code",
   "execution_count": 12,
   "metadata": {},
   "outputs": [
    {
     "data": {
      "text/plain": [
       "284"
      ]
     },
     "execution_count": 12,
     "metadata": {},
     "output_type": "execute_result"
    }
   ],
   "source": [
    "int(obj.root.volume.cdata)"
   ]
  },
  {
   "cell_type": "code",
   "execution_count": 13,
   "metadata": {
    "collapsed": true
   },
   "outputs": [
    {
     "data": {
      "text/plain": [
       "[Element(name = version, attributes = {}, cdata = 3.0.3 Vetinari),\n",
       " Element(name = random, attributes = {}, cdata = false),\n",
       " Element(name = length, attributes = {}, cdata = 6069),\n",
       " Element(name = apiversion, attributes = {}, cdata = 3),\n",
       " Element(name = equalizer, attributes = {}, cdata = ),\n",
       " Element(name = subtitledelay, attributes = {}, cdata = 0),\n",
       " Element(name = position, attributes = {}, cdata = 0.034655205905437),\n",
       " Element(name = volume, attributes = {}, cdata = 284),\n",
       " Element(name = videoeffects, attributes = {}, cdata = \n",
       "   \n",
       "   \n",
       "   \n",
       "   \n",
       "   ),\n",
       " Element(name = aspectratio, attributes = {}, cdata = default),\n",
       " Element(name = repeat, attributes = {}, cdata = false),\n",
       " Element(name = state, attributes = {}, cdata = paused),\n",
       " Element(name = rate, attributes = {}, cdata = 1),\n",
       " Element(name = audiofilters, attributes = {}, cdata = \n",
       "   ),\n",
       " Element(name = loop, attributes = {}, cdata = false),\n",
       " Element(name = time, attributes = {}, cdata = 210),\n",
       " Element(name = fullscreen, attributes = {}, cdata = false),\n",
       " Element(name = currentplid, attributes = {}, cdata = 3),\n",
       " Element(name = audiodelay, attributes = {}, cdata = 0),\n",
       " Element(name = information, attributes = {}, cdata = \n",
       "     \n",
       "     ),\n",
       " Element(name = stats, attributes = {}, cdata = \n",
       "   \n",
       " \n",
       " \n",
       " \n",
       " \n",
       " \n",
       " \n",
       " \n",
       " \n",
       " \n",
       " \n",
       " \n",
       " \n",
       " \n",
       " \n",
       " \n",
       " \n",
       " \n",
       " \n",
       "   )]"
      ]
     },
     "execution_count": 13,
     "metadata": {},
     "output_type": "execute_result"
    }
   ],
   "source": [
    "obj.root.get_elements()"
   ]
  },
  {
   "cell_type": "code",
   "execution_count": null,
   "metadata": {},
   "outputs": [],
   "source": [
    "def get_volume(url,pwd):\n",
    "    r = requests.get(url,auth=('',pwd))\n",
    "    xml = untangle.parse(r.text)\n",
    "    return int(xml.root.volume.cdata)\n",
    "    "
   ]
  },
  {
   "cell_type": "code",
   "execution_count": 17,
   "metadata": {},
   "outputs": [],
   "source": [
    "def _close_vlc():\n",
    "    if os.name == 'nt':\n",
    "        PROCNAME = \"vlc.exe\"\n",
    "    else:\n",
    "        PROCNAME = \"vlc\"\n",
    "    for proc in psutil.process_iter():\n",
    "        # check whether the process name matches\n",
    "        if proc.name() == PROCNAME:\n",
    "            proc.kill()\n",
    "            gone, alive = psutil.wait_procs([proc], timeout=3)\n",
    "            return len(alive)==0\n"
   ]
  },
  {
   "cell_type": "code",
   "execution_count": 18,
   "metadata": {},
   "outputs": [
    {
     "data": {
      "text/plain": [
       "True"
      ]
     },
     "execution_count": 18,
     "metadata": {},
     "output_type": "execute_result"
    }
   ],
   "source": [
    "_close_vlc()"
   ]
  }
 ],
 "metadata": {
  "kernelspec": {
   "display_name": "Python 3",
   "language": "python",
   "name": "python3"
  },
  "language_info": {
   "codemirror_mode": {
    "name": "ipython",
    "version": 3
   },
   "file_extension": ".py",
   "mimetype": "text/x-python",
   "name": "python",
   "nbconvert_exporter": "python",
   "pygments_lexer": "ipython3",
   "version": "3.6.5"
  }
 },
 "nbformat": 4,
 "nbformat_minor": 2
}
